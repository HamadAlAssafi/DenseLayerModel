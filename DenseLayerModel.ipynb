{
  "nbformat": 4,
  "nbformat_minor": 0,
  "metadata": {
    "colab": {
      "name": "FirstModel.ipynb",
      "provenance": []
    },
    "kernelspec": {
      "name": "python3",
      "display_name": "Python 3"
    },
    "language_info": {
      "name": "python"
    }
  },
  "cells": [
    {
      "cell_type": "markdown",
      "metadata": {
        "id": "j1F7o57C7HzS"
      },
      "source": [
        "# The formula that I want the model to predict is\n",
        "## X = Y * 4.5 + 10\n",
        "\n",
        "### I will use Machine Learning and Deep Leanring algorithms such as Neural Network, Dense Layer, Gradient Descent, and Adam to optimize the prediction process and the other algorthims will help in predicting this equation.\n",
        "\n",
        "### All the algorithms have been implemented using Python library Tensorflow, and the visualization using Matplotlib Library"
      ]
    },
    {
      "cell_type": "code",
      "metadata": {
        "id": "3d63CXnM7mvw"
      },
      "source": [
        "import tensorflow as tf\n"
      ],
      "execution_count": null,
      "outputs": []
    },
    {
      "cell_type": "code",
      "metadata": {
        "id": "b-TI0FGN76Ju"
      },
      "source": [
        "import numpy as np\n",
        "import logging\n",
        "logger = tf.get_logger()\n",
        "logger.setLevel(logging.ERROR)"
      ],
      "execution_count": null,
      "outputs": []
    },
    {
      "cell_type": "markdown",
      "metadata": {
        "id": "UwS2Uai5-xMc"
      },
      "source": [
        "### Training process of our model"
      ]
    },
    {
      "cell_type": "code",
      "metadata": {
        "colab": {
          "base_uri": "https://localhost:8080/"
        },
        "id": "Y98Bn0_278l2",
        "outputId": "c663cf63-590a-45ac-e3a2-c0b15d1d2290"
      },
      "source": [
        "Y   = np.array([0,1,2,3,4,5,6,7],  dtype=float)\n",
        "X = np.array([10,14.5,19,23.5,28,32.5,37,41.5],  dtype=float)\n",
        "\n",
        "for i,c in enumerate(X):\n",
        "  print(\"{} X = {} Y\".format(c, Y[i]))"
      ],
      "execution_count": null,
      "outputs": [
        {
          "output_type": "stream",
          "text": [
            "10.0 X = 0.0 Y\n",
            "14.5 X = 1.0 Y\n",
            "19.0 X = 2.0 Y\n",
            "23.5 X = 3.0 Y\n",
            "28.0 X = 4.0 Y\n",
            "32.5 X = 5.0 Y\n",
            "37.0 X = 6.0 Y\n",
            "41.5 X = 7.0 Y\n"
          ],
          "name": "stdout"
        }
      ]
    },
    {
      "cell_type": "code",
      "metadata": {
        "id": "U4l_GYgH9EGx"
      },
      "source": [
        "l0 = tf.keras.layers.Dense(units=1, input_shape=[1])"
      ],
      "execution_count": null,
      "outputs": []
    },
    {
      "cell_type": "code",
      "metadata": {
        "id": "h3MtFzOY9KNr"
      },
      "source": [
        "model = tf.keras.Sequential([l0])"
      ],
      "execution_count": null,
      "outputs": []
    },
    {
      "cell_type": "code",
      "metadata": {
        "id": "P6nykEU69OcH"
      },
      "source": [
        "model.compile(loss='mean_squared_error',\n",
        "              optimizer=tf.keras.optimizers.Adam(0.1))"
      ],
      "execution_count": null,
      "outputs": []
    },
    {
      "cell_type": "markdown",
      "metadata": {
        "id": "5f5T2efN_O-F"
      },
      "source": [
        "### I have created 500 epochs which will look through our training set for 3500 time (7 * 500)"
      ]
    },
    {
      "cell_type": "code",
      "metadata": {
        "colab": {
          "base_uri": "https://localhost:8080/"
        },
        "id": "YOR3IW4K9Xe2",
        "outputId": "92704bc4-1287-4411-b8a0-8fe3eeff79fa"
      },
      "source": [
        "history = model.fit(Y, X, epochs=500, verbose=False)\n",
        "print(\"Finished training the model\")"
      ],
      "execution_count": null,
      "outputs": [
        {
          "output_type": "stream",
          "text": [
            "Finished training the model\n"
          ],
          "name": "stdout"
        }
      ]
    },
    {
      "cell_type": "markdown",
      "metadata": {
        "id": "oTHseaMc-4Gn"
      },
      "source": [
        "### I have visualized the loss rate after each epochs, until it reaches to zero."
      ]
    },
    {
      "cell_type": "code",
      "metadata": {
        "colab": {
          "base_uri": "https://localhost:8080/",
          "height": 279
        },
        "id": "7NJ8xiLY9jdc",
        "outputId": "2b329fbb-7422-4a28-ac5e-a726ab33c37d"
      },
      "source": [
        "import matplotlib.pyplot as plt\n",
        "plt.xlabel('Epoch Number');\n",
        "plt.ylabel(\"Loss Magnitude\");\n",
        "plt.plot(history.history['loss']);"
      ],
      "execution_count": null,
      "outputs": [
        {
          "output_type": "display_data",
          "data": {
            "image/png": "[encoded data removed]",
            "text/plain": [
              "<Figure size 432x288 with 1 Axes>"
            ]
          },
          "metadata": {
            "tags": [],
            "needs_background": "light"
          }
        }
      ]
    },
    {
      "cell_type": "markdown",
      "metadata": {
        "id": "KR7P_qV1_dtZ"
      },
      "source": [
        "### Now the model is ready to make predictions, I have test it with Y = 8\n",
        "### let's remember the equation again X = Y * 4.5 + 10\n",
        "### So,  X = 8 * 4.5 + 10 will equals 46, and the model have predicted it with high level of accuracy."
      ]
    },
    {
      "cell_type": "code",
      "metadata": {
        "colab": {
          "base_uri": "https://localhost:8080/"
        },
        "id": "g0rDiFiA9rKK",
        "outputId": "33a5713f-caa0-48df-df02-2573946c78ca"
      },
      "source": [
        "print(model.predict([8.0]))"
      ],
      "execution_count": null,
      "outputs": [
        {
          "output_type": "stream",
          "text": [
            "[[46.340794]]\n"
          ],
          "name": "stdout"
        }
      ]
    },
    {
      "cell_type": "markdown",
      "metadata": {
        "id": "1cxtKCJa_94K"
      },
      "source": [
        "### Thank you for reading\n",
        "\n",
        "### Sincerely, \n",
        "\n",
        "### Hamad Sami AlAssafi\n",
        "\n",
        "### AlAssafiHamad@gmail.com"
      ]
    }
  ]
}